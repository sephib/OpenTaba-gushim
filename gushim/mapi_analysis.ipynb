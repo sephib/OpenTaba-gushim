{
 "cells": [
  {
   "cell_type": "code",
   "execution_count": 1,
   "metadata": {
    "collapsed": true
   },
   "outputs": [],
   "source": [
    "import pandas as pd\n",
    "import geopandas as gp\n",
    "from shapely.geometry import Point, Polygon, LineString"
   ]
  },
  {
   "cell_type": "code",
   "execution_count": 3,
   "metadata": {},
   "outputs": [],
   "source": [
    "# Load Yeshuv mask data\n",
    "path_to_file = r'gushim/support_data/Yeshuvim2015.csv'\n",
    "df_yeshuv = pd.read_csv(path_to_file, header=0, encoding='utf-8-sig', index_col=False)"
   ]
  },
  {
   "cell_type": "code",
   "execution_count": null,
   "metadata": {},
   "outputs": [],
   "source": [
    "# Load Attribute mapi Data\n",
    "path_to_file = r'gushim/workspace/sub_gush_all-attributes01.csv'\n",
    "df_att = pd.read_csv(path_to_file, header=0, encoding='utf-8-sig', index_col=False)\n",
    "merged_mask = pd.merge(left=df_att, right=df_yeshuv, how='inner', left_on='LOCALITY_I', right_on='ID')"
   ]
  },
  {
   "cell_type": "code",
   "execution_count": 6,
   "metadata": {},
   "outputs": [],
   "source": [
    "# Load Node File\n",
    "path_to_file =r'gushim/workspace/sub_gush_all-nodes.csv'\n",
    "df_node = pd.read_csv(path_to_file, skiprows=1, names=['shapeid', 'x', 'y'], encoding='utf-8-sig')"
   ]
  },
  {
   "cell_type": "code",
   "execution_count": 7,
   "metadata": {},
   "outputs": [],
   "source": [
    "# Create GeoPandas Point dataframe - be patient \n",
    "df_node['geometry'] = df_node.apply(lambda x: (x['x'], x['y']), axis=1)\n",
    "df_point = df_node.groupby('shapeid')['geometry'].apply(lambda x: Polygon(x.tolist())).reset_index()"
   ]
  },
  {
   "cell_type": "code",
   "execution_count": null,
   "metadata": {},
   "outputs": [],
   "source": [
    "# Create Geopandas Polygon dataframe\n",
    "df_polygon = gp.GeoDataFrame(df_point, geometry='geometry')\n",
    "df_polygon.crs = {'init': 'epsg:2039'}"
   ]
  },
  {
   "cell_type": "code",
   "execution_count": 37,
   "metadata": {
    "collapsed": false
   },
   "outputs": [
    {
     "data": {
      "text/plain": [
       "Index([u'shapeid', u'GUSH_NUM', u'GUSH_SUFFI', u'SUB_GUSH_I', u'STATUS',\n       u'STATUS_TEX', u'LOCALITY_I', u'LOCALITY_N', u'REG_MUN_ID',\n       u'REG_MUN_NA', u'COUNTY_ID', u'COUNTY_NAM', u'REGION_ID', u'REGION_NAM',\n       u'WP', u'IS_ANALITY', u'ANALITY_DA', u'SHAPE_Leng', u'SHAPE_Area',\n       u'GUSH_TYPE', u'GUSHID', u'HebName', u'Name', u'ID', u'EngName',\n       u'Region', u'SubDistrict', u'NaturalZone', u'StausMunicipal',\n       u'Metropolitan', u'Religion', u'Pop2015', u'JewsOthers', u'Jews',\n       u'Arebs', u'YearEst', u'TypeSuratYeshuv', u'Affiliation ',\n       u'Coordinate', u'Hight', u'RegionalComittee', u'Police', u'YearUpdate',\n       u'Link'],\n      dtype='object')"
      ]
     },
     "execution_count": 37,
     "metadata": {},
     "output_type": "execute_result"
    }
   ],
   "source": [
    "merged_mask.columns"
   ]
  },
  {
   "cell_type": "code",
   "execution_count": 51,
   "metadata": {
    "collapsed": true
   },
   "outputs": [],
   "source": [
    "# Perfom full outer join - check \n",
    "\n",
    "tempdf =merged_mask.ix[(merged_mask.LOCALITY_I == 3000), ['shapeid', 'GUSH_NUM', 'SUB_GUSH_I', 'LOCALITY_I', 'LOCALITY_N']]\n",
    "tempdf.to_csv('GushimJerusalem.csv', sep=',', encoding='utf-8' )\n",
    "# df_polygon[df_polygon['df_polygon'] == 30048]"
   ]
  },
  {
   "cell_type": "code",
   "execution_count": null,
   "metadata": {},
   "outputs": [],
   "source": [
    "# Join DataFrames\n",
    "merged_inner = pd.merge(left=merged_mask, right=df_polygon, how='inner', left_on='shapeid', right_on='shapeid')"
   ]
  }
 ],
 "metadata": {
  "kernelspec": {
   "display_name": "Python 2",
   "language": "python",
   "name": "python2"
  },
  "language_info": {
   "codemirror_mode": {
    "name": "ipython",
    "version": 2.0
   },
   "file_extension": ".py",
   "mimetype": "text/x-python",
   "name": "python",
   "nbconvert_exporter": "python",
   "pygments_lexer": "ipython2",
   "version": "2.7.6"
  }
 },
 "nbformat": 4,
 "nbformat_minor": 0
}